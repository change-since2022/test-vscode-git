{
 "cells": [
  {
   "cell_type": "code",
   "execution_count": 8,
   "metadata": {},
   "outputs": [
    {
     "data": {
      "text/plain": [
       "6"
      ]
     },
     "execution_count": 8,
     "metadata": {},
     "output_type": "execute_result"
    }
   ],
   "source": [
    "def sum(x,y) :\n",
    "    sum = x*2\n",
    "    return sum \n",
    "\n",
    "    \n",
    "sum(3,5)"
   ]
  },
  {
   "cell_type": "code",
   "execution_count": null,
   "metadata": {},
   "outputs": [],
   "source": []
  },
  {
   "cell_type": "code",
   "execution_count": 14,
   "metadata": {},
   "outputs": [
    {
     "data": {
      "text/plain": [
       "16"
      ]
     },
     "execution_count": 14,
     "metadata": {},
     "output_type": "execute_result"
    }
   ],
   "source": [
    "from operator import mul \n",
    "def square(x):\n",
    "    return mul(x,x)\n",
    "\n",
    "square(-4)"
   ]
  },
  {
   "cell_type": "code",
   "execution_count": 17,
   "metadata": {},
   "outputs": [
    {
     "data": {
      "text/plain": [
       "20"
      ]
     },
     "execution_count": 17,
     "metadata": {},
     "output_type": "execute_result"
    }
   ],
   "source": [
    "def d_n_r(x):\n",
    "    x*x \n",
    "    return(x*x)\n",
    "\n",
    "d_n_r(4)\n",
    "sixteen = d_n_r(4)\n",
    "sixteen + 4"
   ]
  },
  {
   "cell_type": "code",
   "execution_count": 18,
   "metadata": {},
   "outputs": [
    {
     "data": {
      "text/plain": [
       "81"
      ]
     },
     "execution_count": 18,
     "metadata": {},
     "output_type": "execute_result"
    }
   ],
   "source": [
    "from operator import mul\n",
    "def square(x):\n",
    "    return mul(x,x)\n",
    "square(square(3))"
   ]
  },
  {
   "cell_type": "code",
   "execution_count": 20,
   "metadata": {},
   "outputs": [
    {
     "data": {
      "text/plain": [
       "5"
      ]
     },
     "execution_count": 20,
     "metadata": {},
     "output_type": "execute_result"
    }
   ],
   "source": [
    "def absolute_value(x):\n",
    "    if x < 0:\n",
    "        return -x\n",
    "    elif x == 0:\n",
    "        return 0\n",
    "    else:\n",
    "        return x \n",
    "    \n",
    "\n",
    "absolute_value(-5)"
   ]
  },
  {
   "cell_type": "code",
   "execution_count": 21,
   "metadata": {},
   "outputs": [],
   "source": [
    "i, total = 0, 0 \n",
    "while i < 3:\n",
    "    i = i +1 \n",
    "    total = total + i \n",
    "\n",
    "    "
   ]
  },
  {
   "cell_type": "code",
   "execution_count": 25,
   "metadata": {},
   "outputs": [
    {
     "data": {
      "text/plain": [
       "45"
      ]
     },
     "execution_count": 25,
     "metadata": {},
     "output_type": "execute_result"
    }
   ],
   "source": [
    "def get_sum(n):\n",
    "    total, k = 0, 1  #start, +k to make change happen\n",
    "    while k < n: # end \n",
    "        total,  k = total + k,  k +1  #change \n",
    "    return total # outputs \n",
    "\n",
    "get_sum(10)"
   ]
  },
  {
   "cell_type": "code",
   "execution_count": 66,
   "metadata": {},
   "outputs": [
    {
     "data": {
      "text/plain": [
       "3.1415925980291393"
      ]
     },
     "execution_count": 66,
     "metadata": {},
     "output_type": "execute_result"
    }
   ],
   "source": [
    "def get_pi(n):\n",
    "    pi, k = 0, 1\n",
    "    while k < n:\n",
    "        pi , k = pi + 8/ ((4*k-3)*(4*k-1)), k+1\n",
    "    return pi\n",
    "\n",
    "get_pi(9000000)"
   ]
  },
  {
   "attachments": {},
   "cell_type": "markdown",
   "metadata": {},
   "source": [
    "def get_fibonacci(n):\n"
   ]
  },
  {
   "cell_type": "code",
   "execution_count": 99,
   "metadata": {},
   "outputs": [
    {
     "data": {
      "text/plain": [
       "927372692193078999176"
      ]
     },
     "execution_count": 99,
     "metadata": {},
     "output_type": "execute_result"
    }
   ],
   "source": [
    "def get_fibonacci(n):\n",
    "    if n == 1:\n",
    "        x = 1\n",
    "    elif n == 2:\n",
    "        x =1\n",
    "    else: \n",
    "        i, j, c = 1, 1 , 1\n",
    "       \n",
    "        while c <= n:\n",
    "            x = i + j \n",
    "            i = j\n",
    "            j = x \n",
    "            c = c + 1\n",
    "    \n",
    "    \n",
    "    return x \n",
    "\n",
    "get_fibonacci(100)"
   ]
  },
  {
   "cell_type": "code",
   "execution_count": 130,
   "metadata": {},
   "outputs": [
    {
     "name": "stdout",
     "output_type": "stream",
     "text": [
      "-0.76\n"
     ]
    },
    {
     "data": {
      "text/plain": [
       "1.2009999999999998"
      ]
     },
     "execution_count": 130,
     "metadata": {},
     "output_type": "execute_result"
    }
   ],
   "source": [
    "def get_goldenratio(guess, update, close):\n",
    "\n",
    "    x = guess*guess  -  guess  - 1\n",
    "    print (x)\n",
    "\n",
    "\n",
    "  \n",
    "   \n",
    "    if  abs(x)> close:\n",
    "         guess = guess + update\n",
    "         x = guess*guess  -  guess  - 1\n",
    "         \n",
    "         return guess\n",
    "    else: \n",
    "         x = guess\n",
    "         \n",
    "         \n",
    "         \n",
    "    return guess\n",
    "   \n",
    "    \n",
    "\n",
    "   \n",
    "get_goldenratio( 1.2, 0.001, 0.0001)\n"
   ]
  },
  {
   "cell_type": "code",
   "execution_count": null,
   "metadata": {},
   "outputs": [],
   "source": [
    "def g\n",
    "\n",
    "def get_fibonacci(guess, update, close): \n",
    "    while not close:\n",
    "        update(guess)\n",
    "        return guess\n",
    "    \n"
   ]
  },
  {
   "cell_type": "code",
   "execution_count": 131,
   "metadata": {},
   "outputs": [
    {
     "ename": "TypeError",
     "evalue": "'float' object is not callable",
     "output_type": "error",
     "traceback": [
      "\u001b[0;31m---------------------------------------------------------------------------\u001b[0m",
      "\u001b[0;31mTypeError\u001b[0m                                 Traceback (most recent call last)",
      "Cell \u001b[0;32mIn[131], line 17\u001b[0m\n\u001b[1;32m     12\u001b[0m         guess \u001b[39m=\u001b[39m update(guess)\n\u001b[1;32m     13\u001b[0m     \u001b[39mreturn\u001b[39;00m guess \n\u001b[0;32m---> 17\u001b[0m search_goldenratio(\u001b[39m1\u001b[39;49m, update, \u001b[39m1e-3\u001b[39;49m)\n",
      "Cell \u001b[0;32mIn[131], line 11\u001b[0m, in \u001b[0;36msearch_goldenratio\u001b[0;34m(guess, update, close)\u001b[0m\n\u001b[1;32m     10\u001b[0m \u001b[39mdef\u001b[39;00m \u001b[39msearch_goldenratio\u001b[39m( guess, update, close):\n\u001b[0;32m---> 11\u001b[0m     \u001b[39mwhile\u001b[39;00m \u001b[39mnot\u001b[39;00m close(guess):\n\u001b[1;32m     12\u001b[0m         guess \u001b[39m=\u001b[39m update(guess)\n\u001b[1;32m     13\u001b[0m     \u001b[39mreturn\u001b[39;00m guess\n",
      "\u001b[0;31mTypeError\u001b[0m: 'float' object is not callable"
     ]
    }
   ],
   "source": [
    "\n",
    "def close(x, c):\n",
    "    return abs(x*x - x - 1 ) <= c\n",
    "        \n",
    "        \n",
    "\n",
    "def update(y):\n",
    "    return 1/y + 1\n",
    "\n",
    "def search_goldenratio( guess, update, close):\n",
    "    while not close(guess):\n",
    "        guess = update(guess)\n",
    "    return guess \n",
    "\n",
    "\n",
    "\n",
    "search_goldenratio(1, update, 1e-3)"
   ]
  },
  {
   "cell_type": "code",
   "execution_count": 132,
   "metadata": {},
   "outputs": [
    {
     "name": "stdout",
     "output_type": "stream",
     "text": [
      "1.618033988749895\n"
     ]
    }
   ],
   "source": [
    "from math import sqrt\n",
    "\n",
    "phi  = 1/2 + sqrt(5)/ 2\n",
    "print(phi)"
   ]
  },
  {
   "cell_type": "code",
   "execution_count": 138,
   "metadata": {},
   "outputs": [
    {
     "ename": "KeyboardInterrupt",
     "evalue": "",
     "output_type": "error",
     "traceback": [
      "\u001b[0;31m---------------------------------------------------------------------------\u001b[0m",
      "\u001b[0;31mKeyboardInterrupt\u001b[0m                         Traceback (most recent call last)",
      "Cell \u001b[0;32mIn[138], line 20\u001b[0m\n\u001b[1;32m     12\u001b[0m \u001b[39mdef\u001b[39;00m \u001b[39mapprox_eg\u001b[39m(x, y, tolerance \u001b[39m=\u001b[39m \u001b[39m1e-15\u001b[39m):\n\u001b[1;32m     13\u001b[0m     \u001b[39mreturn\u001b[39;00m \u001b[39mabs\u001b[39m(x \u001b[39m-\u001b[39my) \u001b[39m<\u001b[39m tolerance\n\u001b[0;32m---> 20\u001b[0m improve(golden_update, square_close_to_sucessor)\n",
      "Cell \u001b[0;32mIn[138], line 3\u001b[0m, in \u001b[0;36mimprove\u001b[0;34m(update, close, guess)\u001b[0m\n\u001b[1;32m      1\u001b[0m \u001b[39mdef\u001b[39;00m \u001b[39mimprove\u001b[39m( update, close, guess \u001b[39m=\u001b[39m \u001b[39m1\u001b[39m):  \u001b[39m# function as a geenral method \u001b[39;00m\n\u001b[1;32m      2\u001b[0m     \u001b[39mwhile\u001b[39;00m \u001b[39mnot\u001b[39;00m close(guess):\n\u001b[0;32m----> 3\u001b[0m         update(guess)\n\u001b[1;32m      4\u001b[0m     \u001b[39mreturn\u001b[39;00m guess\n",
      "Cell \u001b[0;32mIn[138], line 6\u001b[0m, in \u001b[0;36mgolden_update\u001b[0;34m(guess)\u001b[0m\n\u001b[1;32m      3\u001b[0m         update(guess)\n\u001b[1;32m      4\u001b[0m     \u001b[39mreturn\u001b[39;00m guess \n\u001b[0;32m----> 6\u001b[0m \u001b[39mdef\u001b[39;00m  \u001b[39mgolden_update\u001b[39m(guess):\n\u001b[1;32m      7\u001b[0m     \u001b[39mreturn\u001b[39;00m \u001b[39m1\u001b[39m \u001b[39m+\u001b[39m\u001b[39m1\u001b[39m\u001b[39m/\u001b[39mguess\n\u001b[1;32m      9\u001b[0m \u001b[39mdef\u001b[39;00m \u001b[39msquare_close_to_sucessor\u001b[39m(guess):\n",
      "\u001b[0;31mKeyboardInterrupt\u001b[0m: "
     ]
    }
   ],
   "source": [
    "def improve( update, close, guess = 1):  # function as a geenral method \n",
    "    while not close(guess):\n",
    "        update(guess)\n",
    "    return guess \n",
    "\n",
    "def  golden_update(guess):\n",
    "    return 1 +1/guess\n",
    "\n",
    "def square_close_to_sucessor(guess):\n",
    "    return approx_eg(guess* guess, guess + 1)\n",
    "\n",
    "def approx_eg(x, y, tolerance = 1e-15):\n",
    "    return abs(x -y) < tolerance\n",
    "\n",
    "\n",
    "\n",
    "\n",
    "\n",
    "\n",
    "improve(golden_update, square_close_to_sucessor)"
   ]
  },
  {
   "cell_type": "code",
   "execution_count": 144,
   "metadata": {},
   "outputs": [
    {
     "data": {
      "text/plain": [
       "8.062257748298771"
      ]
     },
     "execution_count": 144,
     "metadata": {},
     "output_type": "execute_result"
    }
   ],
   "source": [
    "def improve( update, close , guess =1): \n",
    "    while not close(guess):\n",
    "        guess = update(guess)\n",
    "    return guess \n",
    "\n",
    "\n",
    "def approx_eg(x, y, tolerance=1e-5):\n",
    "    return abs(x - y) < tolerance   # 到底返回的是ture or false ? \n",
    "\n",
    "\n",
    "def newton_update( f, df):\n",
    "    def update(x):\n",
    "        return x - f(x)/df(x)\n",
    "    return update\n",
    "\n",
    "def find_zero(f, df):  # find_zero 这signature 不是很好\n",
    "    def near_zero(x):\n",
    "        return approx_eg(f(x),0)\n",
    "    return improve(newton_update(f, df), near_zero)\n",
    "    \n",
    "\n",
    "def square_root_newton(a):\n",
    "    def f(x):\n",
    "        return x*x - a \n",
    "    def df(x):\n",
    "        return 2*x \n",
    "    return find_zero(f, df)\n",
    "\n",
    "square_root_newton(65)"
   ]
  },
  {
   "cell_type": "code",
   "execution_count": 145,
   "metadata": {},
   "outputs": [
    {
     "data": {
      "text/plain": [
       "19"
      ]
     },
     "execution_count": 145,
     "metadata": {},
     "output_type": "execute_result"
    }
   ],
   "source": [
    "s = lambda x : x*x+3\n",
    "s(4)"
   ]
  },
  {
   "cell_type": "code",
   "execution_count": 14,
   "metadata": {},
   "outputs": [
    {
     "data": {
      "text/plain": [
       "11"
      ]
     },
     "execution_count": 14,
     "metadata": {},
     "output_type": "execute_result"
    }
   ],
   "source": [
    "import random\n",
    "a = random.randint(1, 20)\n",
    "a "
   ]
  },
  {
   "cell_type": "code",
   "execution_count": 15,
   "metadata": {},
   "outputs": [
    {
     "data": {
      "text/plain": [
       "'限'"
      ]
     },
     "execution_count": 15,
     "metadata": {},
     "output_type": "execute_result"
    }
   ],
   "source": [
    "str = random.choice(\"夕阳无限好\")\n",
    "str "
   ]
  },
  {
   "cell_type": "code",
   "execution_count": 17,
   "metadata": {},
   "outputs": [
    {
     "data": {
      "text/plain": [
       "True"
      ]
     },
     "execution_count": 17,
     "metadata": {},
     "output_type": "execute_result"
    }
   ],
   "source": [
    "True or 5"
   ]
  },
  {
   "cell_type": "code",
   "execution_count": 18,
   "metadata": {},
   "outputs": [
    {
     "data": {
      "text/plain": [
       "2"
      ]
     },
     "execution_count": 18,
     "metadata": {},
     "output_type": "execute_result"
    }
   ],
   "source": [
    "0 or None or 2"
   ]
  },
  {
   "cell_type": "code",
   "execution_count": 19,
   "metadata": {},
   "outputs": [
    {
     "data": {
      "text/plain": [
       "2"
      ]
     },
     "execution_count": 19,
     "metadata": {},
     "output_type": "execute_result"
    }
   ],
   "source": [
    "1 and 2 or None"
   ]
  },
  {
   "cell_type": "code",
   "execution_count": 21,
   "metadata": {},
   "outputs": [
    {
     "data": {
      "text/plain": [
       "34"
      ]
     },
     "execution_count": 21,
     "metadata": {},
     "output_type": "execute_result"
    }
   ],
   "source": [
    "def sr(a):\n",
    "    return a*a \n",
    "def sum_square( x, y):\n",
    "    return sr(x) + sr(y)\n",
    "\n",
    "sum_square(3,5)"
   ]
  },
  {
   "cell_type": "code",
   "execution_count": 22,
   "metadata": {},
   "outputs": [
    {
     "data": {
      "text/plain": [
       "34"
      ]
     },
     "execution_count": 22,
     "metadata": {},
     "output_type": "execute_result"
    }
   ],
   "source": [
    "\n",
    "def sum_square( x, y):\n",
    "    return sr(x) + sr(y)\n",
    "def sr(a):\n",
    "    return a*a \n",
    "\n",
    "sum_square(3,5)"
   ]
  },
  {
   "cell_type": "code",
   "execution_count": 1,
   "metadata": {},
   "outputs": [
    {
     "data": {
      "text/plain": [
       "12"
      ]
     },
     "execution_count": 1,
     "metadata": {},
     "output_type": "execute_result"
    }
   ],
   "source": [
    "y = 6\n",
    "\n",
    "def apply_func(f, x):\n",
    "    return f(x)(y)\n",
    "\n",
    "apply_func(lambda x: lambda y : x + y + 1, 5)"
   ]
  },
  {
   "cell_type": "code",
   "execution_count": 4,
   "metadata": {},
   "outputs": [
    {
     "ename": "NameError",
     "evalue": "name 'add' is not defined",
     "output_type": "error",
     "traceback": [
      "\u001b[0;31m---------------------------------------------------------------------------\u001b[0m",
      "\u001b[0;31mNameError\u001b[0m                                 Traceback (most recent call last)",
      "Cell \u001b[0;32mIn[4], line 5\u001b[0m\n\u001b[1;32m      2\u001b[0m     \u001b[39mreturn\u001b[39;00m \u001b[39mlambda\u001b[39;00m k : n \u001b[39m+\u001b[39m k \n\u001b[1;32m      4\u001b[0m \u001b[39m#make_adder(2)(3)\u001b[39;00m\n\u001b[0;32m----> 5\u001b[0m add(\u001b[39m2\u001b[39m,\u001b[39m3\u001b[39m)\n",
      "\u001b[0;31mNameError\u001b[0m: name 'add' is not defined"
     ]
    }
   ],
   "source": [
    "def make_adder(n):\n",
    "    return lambda k : n + k \n",
    "\n",
    "#make_adder(2)(3)\n",
    "add(2,3)\n",
    "\n"
   ]
  },
  {
   "cell_type": "code",
   "execution_count": null,
   "metadata": {},
   "outputs": [],
   "source": []
  },
  {
   "cell_type": "code",
   "execution_count": 3,
   "metadata": {},
   "outputs": [
    {
     "ename": "NameError",
     "evalue": "name 'add' is not defined",
     "output_type": "error",
     "traceback": [
      "\u001b[0;31m---------------------------------------------------------------------------\u001b[0m",
      "\u001b[0;31mNameError\u001b[0m                                 Traceback (most recent call last)",
      "Cell \u001b[0;32mIn[3], line 1\u001b[0m\n\u001b[0;32m----> 1\u001b[0m add(\u001b[39m2\u001b[39m,\u001b[39m3\u001b[39m)\n",
      "\u001b[0;31mNameError\u001b[0m: name 'add' is not defined"
     ]
    }
   ],
   "source": [
    "add(2,3)"
   ]
  }
 ],
 "metadata": {
  "kernelspec": {
   "display_name": "pythonProject",
   "language": "python",
   "name": "python3"
  },
  "language_info": {
   "codemirror_mode": {
    "name": "ipython",
    "version": 3
   },
   "file_extension": ".py",
   "mimetype": "text/x-python",
   "name": "python",
   "nbconvert_exporter": "python",
   "pygments_lexer": "ipython3",
   "version": "3.10.8"
  },
  "orig_nbformat": 4,
  "vscode": {
   "interpreter": {
    "hash": "c73d2374e29fe4fc35d5e54a36feeeb1379b59fdc811eb4099be96b7285c5179"
   }
  }
 },
 "nbformat": 4,
 "nbformat_minor": 2
}
